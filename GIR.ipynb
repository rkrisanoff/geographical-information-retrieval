{
  "cells": [
    {
      "cell_type": "markdown",
      "metadata": {
        "colab_type": "text",
        "id": "view-in-github"
      },
      "source": [
        "<a href=\"https://colab.research.google.com/github/rkrisanoff/geographical-information-retrieval/blob/main/GIR.ipynb\" target=\"_parent\"><img src=\"https://colab.research.google.com/assets/colab-badge.svg\" alt=\"Open In Colab\"/></a>"
      ]
    },
    {
      "cell_type": "code",
      "execution_count": null,
      "metadata": {
        "id": "IV2jLzly9z8v"
      },
      "outputs": [],
      "source": [
        "!pip install natasha\n",
        "!pip install yandex-geocoder"
      ]
    },
    {
      "cell_type": "code",
      "execution_count": 93,
      "metadata": {
        "id": "h3s5YrX9E5ng"
      },
      "outputs": [],
      "source": [
        "from pprint import pprint"
      ]
    },
    {
      "cell_type": "code",
      "execution_count": null,
      "metadata": {
        "id": "NN9o9zDH_CfF"
      },
      "outputs": [],
      "source": [
        "from natasha import (\n",
        "    Segmenter,\n",
        "    MorphVocab,\n",
        "    \n",
        "    NewsEmbedding,\n",
        "    NewsMorphTagger,\n",
        "    NewsSyntaxParser,\n",
        "    NewsNERTagger,\n",
        "    \n",
        "    PER,\n",
        "    NamesExtractor,\n",
        "\n",
        "    Doc\n",
        ")\n",
        "\n",
        "segmenter = Segmenter()\n",
        "morph_vocab = MorphVocab()\n",
        "\n",
        "emb = NewsEmbedding()\n",
        "morph_tagger = NewsMorphTagger(emb)\n",
        "syntax_parser = NewsSyntaxParser(emb)\n",
        "ner_tagger = NewsNERTagger(emb)\n",
        "\n",
        "names_extractor = NamesExtractor(morph_vocab)"
      ]
    },
    {
      "cell_type": "code",
      "execution_count": null,
      "metadata": {
        "id": "ETDZvDVPbzRw"
      },
      "outputs": [],
      "source": [
        "import glob\n",
        "from google.colab import drive\n",
        "drive.mount('/content/drive')\n",
        "news = glob.glob(f\"/content/drive/MyDrive/GIR/FONTANKA-NEWS/little_news/*.txt\")"
      ]
    },
    {
      "cell_type": "code",
      "execution_count": null,
      "metadata": {
        "id": "5TtDgypbC-uF"
      },
      "outputs": [],
      "source": [
        "# import gdown\n",
        "# Реальный датасет будет намного больше\n",
        "# shared_link = 'https://drive.google.com/drive/folders/1YM3wLKR9qJg1SuTTk9UG2iISEObSNtw0?usp=share_link'\n",
        "# output = 'news'\n",
        "# news = gdown.download_folder(url=shared_link,output=output,remaining_ok=True,quiet=True) "
      ]
    },
    {
      "cell_type": "code",
      "execution_count": 105,
      "metadata": {
        "id": "zD3ZCE9M-Sfp"
      },
      "outputs": [],
      "source": [
        "documents = dict()\n",
        "\n",
        "for new_path in news:\n",
        "  text = \"\"\n",
        "  with open(new_path) as new:\n",
        "    category,title,text = new.readlines()[:3]\n",
        "    if title[-1:] == '\\n':\n",
        "      title = title[:-1]\n",
        "  doc = Doc(text)\n",
        "  doc.segment(segmenter) \n",
        "  doc.tag_morph(morph_tagger)\n",
        "  for token in doc.tokens:\n",
        "    token.lemmatize(morph_vocab)\n",
        "  doc.tag_ner(ner_tagger)\n",
        "  for span in doc.spans:\n",
        "    span.normalize(morph_vocab)\n",
        "    span.extract_fact(names_extractor)\n",
        "    \n",
        "\n",
        "  documents[title] = []\n",
        "  for span in doc.spans:\n",
        "    if span.type == \"LOC\":\n",
        "      documents[title].append(span.normal)"
      ]
    },
    {
      "cell_type": "code",
      "execution_count": null,
      "metadata": {
        "id": "HD2MyS8iXNHR"
      },
      "outputs": [],
      "source": [
        "for title,words in list(documents.items()):\n",
        "  print(\"\")\n",
        "  print(title)\n",
        "  print('!'+'-'*(len(title)-2)+'!')\n",
        "  print(words)\n",
        "  print('^'+'-'*(len(title)-2)+'^')"
      ]
    },
    {
      "cell_type": "markdown",
      "metadata": {
        "id": "K3PCCDeqhXub"
      },
      "source": [
        "Кластеризация (пока только начало)"
      ]
    },
    {
      "cell_type": "code",
      "execution_count": 108,
      "metadata": {
        "id": "sY131C6DhPmD"
      },
      "outputs": [],
      "source": [
        "from decimal import Decimal\n",
        "from yandex_geocoder import Client\n",
        "# api key\n",
        "client = Client(\"\")"
      ]
    },
    {
      "cell_type": "code",
      "execution_count": 109,
      "metadata": {
        "id": "S9gVW6KFjw0v"
      },
      "outputs": [],
      "source": [
        "texts = list(documents.values())\n",
        "locations = dict()\n",
        "undefined_locations = set()\n",
        "for text in texts:\n",
        "  for place in text:\n",
        "    if place in undefined_locations:\n",
        "      continue\n",
        "    if place not in locations:\n",
        "      try:\n",
        "        coord = client.coordinates(place)\n",
        "        locations[place] = float(coord[0]),float(coord[1])\n",
        "      except:\n",
        "        undefined_locations.add(place)"
      ]
    },
    {
      "cell_type": "code",
      "execution_count": null,
      "metadata": {
        "id": "NG6N5E2O8PKM"
      },
      "outputs": [],
      "source": [
        "undefined_locations"
      ]
    },
    {
      "cell_type": "code",
      "execution_count": null,
      "metadata": {
        "id": "aP-ckp1vsehK"
      },
      "outputs": [],
      "source": [
        "locations"
      ]
    }
  ],
  "metadata": {
    "colab": {
      "authorship_tag": "ABX9TyMfUaLKFGOD0AnG2LqHelt3",
      "include_colab_link": true,
      "mount_file_id": "1BPSnU7IJSWDqdWqR340MSWTLhWH_H2zC",
      "provenance": []
    },
    "kernelspec": {
      "display_name": "Python 3",
      "name": "python3"
    },
    "language_info": {
      "name": "python"
    }
  },
  "nbformat": 4,
  "nbformat_minor": 0
}
