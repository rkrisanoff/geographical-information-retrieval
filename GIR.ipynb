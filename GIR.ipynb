{
  "cells": [
    {
      "cell_type": "markdown",
      "metadata": {
        "colab_type": "text",
        "id": "view-in-github"
      },
      "source": [
        "<a href=\"https://colab.research.google.com/github/rkrisanoff/geographical-information-retrieval/blob/main/GIR.ipynb\" target=\"_parent\"><img src=\"https://colab.research.google.com/assets/colab-badge.svg\" alt=\"Open In Colab\"/></a>"
      ]
    },
    {
      "cell_type": "code",
      "execution_count": null,
      "metadata": {
        "colab": {
          "base_uri": "https://localhost:8080/"
        },
        "id": "IV2jLzly9z8v",
        "outputId": "c916500b-400c-476f-a067-a20640c3080b"
      },
      "outputs": [],
      "source": [
        "!pip install natasha"
      ]
    },
    {
      "cell_type": "code",
      "execution_count": 2,
      "metadata": {
        "id": "A5u8ky5o98TT"
      },
      "outputs": [],
      "source": [
        "# news = glob.glob(f\"/content/drive/MyDrive/GIR/FONTANKA-NEWS/news/*.txt\")\n",
        "# import glob\n",
        "# from google.colab import drive\n",
        "# drive.mount('/content/drive')"
      ]
    },
    {
      "cell_type": "code",
      "execution_count": 3,
      "metadata": {
        "id": "h3s5YrX9E5ng"
      },
      "outputs": [],
      "source": [
        "from pprint import pprint"
      ]
    },
    {
      "cell_type": "code",
      "execution_count": 4,
      "metadata": {
        "id": "NN9o9zDH_CfF"
      },
      "outputs": [],
      "source": [
        "from natasha import (\n",
        "    Segmenter,\n",
        "    MorphVocab,\n",
        "    \n",
        "    NewsEmbedding,\n",
        "    NewsMorphTagger,\n",
        "    NewsSyntaxParser,\n",
        "    NewsNERTagger,\n",
        "    \n",
        "    PER,\n",
        "    NamesExtractor,\n",
        "\n",
        "    Doc\n",
        ")\n",
        "\n",
        "segmenter = Segmenter()\n",
        "morph_vocab = MorphVocab()\n",
        "\n",
        "emb = NewsEmbedding()\n",
        "morph_tagger = NewsMorphTagger(emb)\n",
        "syntax_parser = NewsSyntaxParser(emb)\n",
        "ner_tagger = NewsNERTagger(emb)\n",
        "\n",
        "names_extractor = NamesExtractor(morph_vocab)"
      ]
    },
    {
      "cell_type": "code",
      "execution_count": 5,
      "metadata": {
        "id": "5TtDgypbC-uF"
      },
      "outputs": [],
      "source": [
        "import gdown\n",
        "# Реальный датасет будет намного больше\n",
        "shared_link = 'https://drive.google.com/drive/folders/1YM3wLKR9qJg1SuTTk9UG2iISEObSNtw0?usp=share_link'\n",
        "output = 'news'\n",
        "news = gdown.download_folder(url=shared_link,output=output,remaining_ok=True,quiet=True) "
      ]
    },
    {
      "cell_type": "code",
      "execution_count": null,
      "metadata": {
        "id": "zD3ZCE9M-Sfp"
      },
      "outputs": [],
      "source": [
        "documents = dict()\n",
        "\n",
        "for new_path in news[:5]:\n",
        "  text = \"\"\n",
        "  with open(new_path) as new:\n",
        "    category,title,text = new.readlines()[:3]\n",
        "    if title[-1:] == '\\n':\n",
        "      title = title[:-1]\n",
        "  doc = Doc(text)\n",
        "  doc.segment(segmenter) \n",
        "  doc.tag_morph(morph_tagger)\n",
        "  for token in doc.tokens:\n",
        "    token.lemmatize(morph_vocab)\n",
        "  doc.tag_ner(ner_tagger)\n",
        "  for span in doc.spans:\n",
        "    span.normalize(morph_vocab)\n",
        "  for span in doc.spans:\n",
        "    span.extract_fact(names_extractor)\n",
        "\n",
        "  documents[title] = []\n",
        "  for span in doc.spans:\n",
        "    if span.type == \"LOC\":\n",
        "      documents[title].append(span.normal)"
      ]
    },
    {
      "cell_type": "code",
      "execution_count": 13,
      "metadata": {
        "colab": {
          "base_uri": "https://localhost:8080/"
        },
        "id": "HD2MyS8iXNHR",
        "outputId": "ed5197dc-8d56-4c49-8bc1-30646f295983"
      },
      "outputs": [
        {
          "name": "stdout",
          "output_type": "stream",
          "text": [
            "\n",
            "Губернатор Петербурга и замминистра транспорта летали над КАДом на вертолете\n",
            "!--------------------------------------------------------------------------!\n",
            "['Санкт-Петербург', 'РФ', 'Санкт-Петербург', 'РФ', 'Санкт-Петербург', 'Нева', 'Сосновское', 'Мурино', 'Муринский']\n",
            "^--------------------------------------------------------------------------^\n",
            "\n",
            "Кольцевая дорога \"обовьется\" вокруг бюджета\n",
            "!-----------------------------------------!\n",
            "['Петербург', 'Петербург', 'Москва', 'Горская', 'Мурино']\n",
            "^-----------------------------------------^\n",
            "\n",
            "Питерские прыжки на батуте удостоились \"серебра\"\n",
            "!----------------------------------------------!\n",
            "['Краснодар', 'Россия', 'Муриной']\n",
            "^----------------------------------------------^\n",
            "\n",
            "Полковник МЧС воровал взрывчатку килограммами\n",
            "!-------------------------------------------!\n",
            "['Москва', 'Мурино', 'Ленинградская область']\n",
            "^-------------------------------------------^\n",
            "\n",
            "Сотрудники УБОП закрыли подпольный водочный цех\n",
            "!---------------------------------------------!\n",
            "['Мурино', 'Всеволожский район']\n",
            "^---------------------------------------------^\n"
          ]
        }
      ],
      "source": [
        "for title,words in documents.items():\n",
        "  print(\"\")\n",
        "  print(title)\n",
        "  print('!'+'-'*(len(title)-2)+'!')\n",
        "  print(words)\n",
        "  print('^'+'-'*(len(title)-2)+'^')"
      ]
    }
  ],
  "metadata": {
    "colab": {
      "authorship_tag": "ABX9TyPOlZI9O9ub9OsoVW8Yb5e3",
      "include_colab_link": true,
      "mount_file_id": "1BPSnU7IJSWDqdWqR340MSWTLhWH_H2zC",
      "provenance": []
    },
    "kernelspec": {
      "display_name": "Python 3",
      "name": "python3"
    },
    "language_info": {
      "name": "python"
    }
  },
  "nbformat": 4,
  "nbformat_minor": 0
}
